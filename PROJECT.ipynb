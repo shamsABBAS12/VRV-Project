{
 "cells": [
  {
   "cell_type": "markdown",
   "metadata": {},
   "source": [
    "## 1. Count Requests per IP Address:"
   ]
  },
  {
   "cell_type": "code",
   "execution_count": 7,
   "metadata": {},
   "outputs": [
    {
     "name": "stdout",
     "output_type": "stream",
     "text": [
      "IP Address          Request Count  \n",
      "-----------------------------------\n",
      "203.0.113.5         8              \n",
      "198.51.100.23       8              \n",
      "192.168.1.1         7              \n",
      "10.0.0.2            6              \n",
      "192.168.1.100       5              \n"
     ]
    }
   ],
   "source": [
    "from collections import Counter\n",
    "\n",
    "# Path to the log file\n",
    "file_path = r\"C:\\Users\\DELL\\Downloads\\online_game\\sample.log\"\n",
    "\n",
    "# Parse the log file and extract IP addresses\n",
    "ip_addresses = []\n",
    "with open(file_path, 'r') as file:\n",
    "    for line in file:\n",
    "        if line.strip():  # Ignore empty lines\n",
    "            ip_address = line.split()[0]  # IP address is the first element in the log\n",
    "            ip_addresses.append(ip_address)\n",
    "\n",
    "# Count requests per IP address\n",
    "ip_count = Counter(ip_addresses)\n",
    "\n",
    "# Sort by request count in descending order\n",
    "sorted_ip_count = sorted(ip_count.items(), key=lambda x: x[1], reverse=True)\n",
    "\n",
    "# Display the results\n",
    "print(f\"{'IP Address':<20}{'Request Count':<15}\")\n",
    "print(\"-\" * 35)\n",
    "for ip, count in sorted_ip_count:\n",
    "    print(f\"{ip:<20}{count:<15}\")\n"
   ]
  },
  {
   "cell_type": "markdown",
   "metadata": {},
   "source": [
    "1. The count of requests given to each IP address is \n",
    "- IP Address   ----       Request Count  \n",
    "- 203.0.113.5    ----     8              \n",
    "- 198.51.100.23  ----    8              \n",
    "- 192.168.1.1   -----    7  "
   ]
  },
  {
   "cell_type": "markdown",
   "metadata": {},
   "source": [
    "## 2. Identify the Most Frequently Accessed Endpoint:"
   ]
  },
  {
   "cell_type": "code",
   "execution_count": 9,
   "metadata": {},
   "outputs": [
    {
     "name": "stdout",
     "output_type": "stream",
     "text": [
      "Most Frequently Accessed Endpoint:\n",
      "/login (Accessed 13 times)\n"
     ]
    }
   ],
   "source": [
    "from collections import Counter\n",
    "import re\n",
    "\n",
    "# Path to the log file\n",
    "file_path = r\"C:\\Users\\DELL\\Downloads\\online_game\\sample.log\"\n",
    "\n",
    "# Parse the log file and extract endpoints\n",
    "endpoints = []\n",
    "with open(file_path, 'r') as file:\n",
    "    for line in file:\n",
    "        if line.strip():  # Ignore empty lines\n",
    "            match = re.search(r'\\\"[A-Z]+\\s(/[^ ]*)\\sHTTP/1\\.[01]\\\"', line)\n",
    "            if match:\n",
    "                endpoints.append(match.group(1))\n",
    "\n",
    "# Count requests per endpoint\n",
    "endpoint_count = Counter(endpoints)\n",
    "\n",
    "# Find the most frequently accessed endpoint\n",
    "most_frequent_endpoint = endpoint_count.most_common(1)[0]\n",
    "\n",
    "# Display the result\n",
    "print(\"Most Frequently Accessed Endpoint:\")\n",
    "print(f\"{most_frequent_endpoint[0]} (Accessed {most_frequent_endpoint[1]} times)\")\n"
   ]
  },
  {
   "cell_type": "markdown",
   "metadata": {},
   "source": [
    "2. The Most Frequently Accessed Endpoint from the sample is:\n",
    "- /login (Accessed is 13 times)"
   ]
  },
  {
   "cell_type": "markdown",
   "metadata": {},
   "source": [
    "## 3. Detect Suspicious Activity:"
   ]
  },
  {
   "cell_type": "code",
   "execution_count": 2,
   "metadata": {},
   "outputs": [
    {
     "name": "stdout",
     "output_type": "stream",
     "text": [
      "No suspicious activity detected.\n"
     ]
    }
   ],
   "source": [
    "from collections import Counter\n",
    "\n",
    "# Path to the log file\n",
    "file_path = r\"C:\\Users\\DELL\\Downloads\\online_game\\sample.log\"\n",
    "\n",
    "# Configurable threshold for failed login attempts\n",
    "threshold = 10\n",
    "\n",
    "# Extract IP addresses for failed login attempts (status code 401 or failure message)\n",
    "failed_logins = []\n",
    "with open(file_path, 'r') as file:\n",
    "    for line in file:\n",
    "        if line.strip():  # Ignore empty lines\n",
    "            parts = line.split('\"')  # Split by quotes to isolate the request part\n",
    "            if len(parts) > 2:  # Ensure log line has enough parts\n",
    "                ip_address = line.split()[0]  # Extract IP address\n",
    "                status_code = line.split()[-2]  # Extract status code\n",
    "                if status_code == \"401\" or \"Invalid credentials\" in line:\n",
    "                    failed_logins.append(ip_address)\n",
    "\n",
    "# Count failed login attempts per IP address\n",
    "failed_login_count = Counter(failed_logins)\n",
    "\n",
    "# Filter IPs exceeding the threshold\n",
    "suspicious_ips = {ip: count for ip, count in failed_login_count.items() if count > threshold}\n",
    "\n",
    "# Display the results\n",
    "if suspicious_ips:\n",
    "    print(\"Suspicious Activity Detected:\")\n",
    "    print(f\"{'IP Address':<20}{'Failed Login Attempts':<20}\")\n",
    "    print(\"-\" * 40)\n",
    "    for ip, count in suspicious_ips.items():\n",
    "        print(f\"{ip:<20}{count:<20}\")\n",
    "else:\n",
    "    print(\"No suspicious activity detected.\")\n"
   ]
  },
  {
   "cell_type": "markdown",
   "metadata": {},
   "source": [
    "- The script found no suspicious IP addresses exceeding the threshold of 10 failed login attempts.\n",
    "\n",
    "- This means there were no IP addresses in the log file with more than 10 failed login attempts (401 status code or \"Invalid credentials\" messages)"
   ]
  },
  {
   "cell_type": "markdown",
   "metadata": {},
   "source": [
    "## 4. Output Results:"
   ]
  },
  {
   "cell_type": "code",
   "execution_count": 10,
   "metadata": {},
   "outputs": [
    {
     "name": "stdout",
     "output_type": "stream",
     "text": [
      "\n",
      "Requests per IP Address:\n",
      "IP Address          Request Count  \n",
      "-----------------------------------\n",
      "192.168.1.1         7              \n",
      "203.0.113.5         8              \n",
      "10.0.0.2            6              \n",
      "198.51.100.23       8              \n",
      "192.168.1.100       5              \n",
      "\n",
      "Most Frequently Accessed Endpoint:\n",
      "/login (Accessed 13 times)\n",
      "\n",
      "Suspicious Activity Detected:\n",
      "IP Address          Failed Login Attempts\n",
      "----------------------------------------\n",
      "203.0.113.5         8                   \n",
      "\n",
      "Results saved to C:\\Users\\DELL\\Downloads\\online_game\\log_analysis_results.csv\n"
     ]
    }
   ],
   "source": [
    "import csv\n",
    "from collections import Counter\n",
    "\n",
    "# Path to the log file\n",
    "file_path = r\"C:\\Users\\DELL\\Downloads\\online_game\\sample.log\"\n",
    "\n",
    "# Configurable threshold for suspicious activity\n",
    "threshold = 5 # default\n",
    "\n",
    "# Analyze requests per IP address\n",
    "ip_addresses = []\n",
    "endpoints = []\n",
    "failed_logins = []\n",
    "\n",
    "with open(file_path, 'r') as file:\n",
    "    for line in file:\n",
    "        if line.strip():  # Ignore empty lines\n",
    "            parts = line.split('\"')  # Split by quotes to isolate the request part\n",
    "            ip_address = line.split()[0]  # IP address is the first part of the log\n",
    "            ip_addresses.append(ip_address)\n",
    "\n",
    "            # Extract endpoints\n",
    "            if len(parts) > 1:\n",
    "                request = parts[1].split()\n",
    "                if len(request) > 1:\n",
    "                    endpoints.append(request[1])\n",
    "\n",
    "            # Identify failed logins (401 or invalid credentials)\n",
    "            if len(parts) > 2:\n",
    "                status_code = line.split()[-2]  # HTTP status code\n",
    "                if status_code == \"401\" or \"Invalid credentials\" in line:\n",
    "                    failed_logins.append(ip_address)\n",
    "\n",
    "# Count occurrences\n",
    "ip_count = Counter(ip_addresses)\n",
    "endpoint_count = Counter(endpoints)\n",
    "failed_login_count = Counter(failed_logins)\n",
    "\n",
    "# Most accessed endpoint\n",
    "most_frequent_endpoint, access_count = endpoint_count.most_common(1)[0]\n",
    "\n",
    "# Filter suspicious IPs\n",
    "suspicious_ips = {ip: count for ip, count in failed_login_count.items() if count > threshold}\n",
    "\n",
    "# Display results in terminal\n",
    "print(\"\\nRequests per IP Address:\")\n",
    "print(f\"{'IP Address':<20}{'Request Count':<15}\")\n",
    "print(\"-\" * 35)\n",
    "for ip, count in ip_count.items():\n",
    "    print(f\"{ip:<20}{count:<15}\")\n",
    "\n",
    "print(\"\\nMost Frequently Accessed Endpoint:\")\n",
    "print(f\"{most_frequent_endpoint} (Accessed {access_count} times)\")\n",
    "\n",
    "print(\"\\nSuspicious Activity Detected:\")\n",
    "print(f\"{'IP Address':<20}{'Failed Login Attempts':<20}\")\n",
    "print(\"-\" * 40)\n",
    "for ip, count in suspicious_ips.items():\n",
    "    print(f\"{ip:<20}{count:<20}\")\n",
    "\n",
    "# Save results to CSV\n",
    "csv_file = r\"C:\\Users\\DELL\\Downloads\\online_game\\log_analysis_results.csv\"\n",
    "\n",
    "with open(csv_file, 'w', newline='') as file:\n",
    "    writer = csv.writer(file)\n",
    "\n",
    "    # Write requests per IP\n",
    "    writer.writerow([\"Requests per IP\"])\n",
    "    writer.writerow([\"IP Address\", \"Request Count\"])\n",
    "    for ip, count in ip_count.items():\n",
    "        writer.writerow([ip, count])\n",
    "\n",
    "    writer.writerow([])  # Blank row for separation\n",
    "\n",
    "    # Write most accessed endpoint\n",
    "    writer.writerow([\"Most Accessed Endpoint\"])\n",
    "    writer.writerow([\"Endpoint\", \"Access Count\"])\n",
    "    writer.writerow([most_frequent_endpoint, access_count])\n",
    "\n",
    "    writer.writerow([])  # Blank row for separation\n",
    "\n",
    "    # Write suspicious activity\n",
    "    writer.writerow([\"Suspicious Activity\"])\n",
    "    writer.writerow([\"IP Address\", \"Failed Login Count\"])\n",
    "    for ip, count in suspicious_ips.items():\n",
    "        writer.writerow([ip, count])\n",
    "\n",
    "print(f\"\\nResults saved to {csv_file}\")\n"
   ]
  },
  {
   "cell_type": "markdown",
   "metadata": {},
   "source": [
    "- Results saved in log_analysis_results.csv containing:\n",
    "- IP addresses and their request counts.\n",
    "- Most accessed endpoint with its count.\n",
    "- Suspicious IPs with failed login counts."
   ]
  },
  {
   "cell_type": "markdown",
   "metadata": {},
   "source": []
  }
 ],
 "metadata": {
  "kernelspec": {
   "display_name": "Python 3",
   "language": "python",
   "name": "python3"
  },
  "language_info": {
   "codemirror_mode": {
    "name": "ipython",
    "version": 3
   },
   "file_extension": ".py",
   "mimetype": "text/x-python",
   "name": "python",
   "nbconvert_exporter": "python",
   "pygments_lexer": "ipython3",
   "version": "3.12.3"
  }
 },
 "nbformat": 4,
 "nbformat_minor": 2
}
